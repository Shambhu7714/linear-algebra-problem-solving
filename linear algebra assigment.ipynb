{
 "cells": [
  {
   "cell_type": "code",
   "execution_count": 3,
   "metadata": {},
   "outputs": [
    {
     "name": "stdout",
     "output_type": "stream",
     "text": [
      "[-0.  0. -0.]\n"
     ]
    }
   ],
   "source": [
    "'''1. solve the following system:\n",
    "\tx1-2x2+x3=0\n",
    "\t2x2-8x3=0\n",
    "\t-4x1+5x2+7x2=0'''\n",
    "\n",
    "import numpy as np\n",
    "# the coefficient matrix A\n",
    "A = np.array([[1, -2, 1],\n",
    "[0, 2, -8],[-4, 5, 7]])\n",
    "#  the constant vector B\n",
    "B = np.array([0, 0, 0])\n",
    "# system of equations Ax = b using numpy.linalg.solve\n",
    "x = np.linalg.solve(A, B)\n",
    "print(x)\n",
    "\n",
    "# the system of equations is x1 = -0, x2 = 0, and x3 = -0.\n"
   ]
  },
  {
   "cell_type": "code",
   "execution_count": 4,
   "metadata": {},
   "outputs": [
    {
     "name": "stdout",
     "output_type": "stream",
     "text": [
      "[[1 1 2]\n",
      " [1 2 3]\n",
      " [3 4 5]]\n"
     ]
    }
   ],
   "source": [
    "'''# 2.Transform the following matrix into row echelon form as:\n",
    "\t 1 1 2\n",
    "\t 1 2 3\n",
    "\t 3 4 5'''\n",
    "\n",
    "import numpy as np\n",
    "#define matrix as input\n",
    "X= np.array([[1, 1, 2], [1, 2, 3], [3, 4, 5]])\n",
    "#transform the matrix into row echelon form\n",
    "for i in range(3):\n",
    "    if X[i,i] == 0:\n",
    "        for j in range(i+1, 3):\n",
    "            if X[j,i] != 0:\n",
    "                X[[i,j]] = X[[j,i]]\n",
    "                break\n",
    "# from the rows below it to make all elements below the pivot zero\n",
    "for j in range(i+1, 3):\n",
    "        fact = X[j,i] / X[i,i]\n",
    "        X[j] = X[j] - fact * X[i]\n",
    "\n",
    "# Print the resulting row echelon form\n",
    "print(X)"
   ]
  },
  {
   "cell_type": "code",
   "execution_count": 7,
   "metadata": {},
   "outputs": [
    {
     "name": "stdout",
     "output_type": "stream",
     "text": [
      "eigenvalues\n",
      "5.82842712474619\n",
      "0.17157287525380982\n",
      "\n",
      "eigenvectors\n",
      "eigenvector 1: [0.92387953 0.38268343]\n",
      "eigenvector 2: [-0.38268343  0.92387953]\n"
     ]
    }
   ],
   "source": [
    "'''3. Find the eigen value and eigen vector of the matrix:\n",
    "\tY=[5 2\n",
    "       2 1]'''\n",
    "    \n",
    "import numpy as np \n",
    "# input as a matric\n",
    "Y = np.array([[5, 2], [2, 1]])\n",
    "# Find the eigenvalues & eigenvectors\n",
    "print(\"eigenvalues\")\n",
    "eigenvals, eigenvects = np.linalg.eig(Y)\n",
    "for eigenval in eigenvals:\n",
    "    print(eigenval)\n",
    "\n",
    "print(\"\\neigenvectors\")\n",
    "for i, eigenvect in enumerate(eigenvects.T):\n",
    "    print(\"eigenvector {}:\".format(i+1), eigenvect)\n",
    "    "
   ]
  },
  {
   "cell_type": "code",
   "execution_count": 2,
   "metadata": {},
   "outputs": [
    {
     "name": "stdout",
     "output_type": "stream",
     "text": [
      "[array([0.05006953, 0.74963992, 1.        , 0.06652553]), array([ 0.39573303,  0.24785363, -0.4203796 ,  1.        ])]\n"
     ]
    }
   ],
   "source": [
    "'''4. Identify the parametric vector form of the following matrix :\n",
    "\tA= 1  0 -8 -7\n",
    "\t   0  1  4  3\n",
    "\t   0  0  0  0'''\n",
    "\n",
    "import numpy as np \n",
    "Z = np.array([[1, 0, -8, -7], [0, 1, 4, 3]])\n",
    "#pivot elemint \n",
    "pivot = [0, 1]\n",
    "#free variables\n",
    "free_var = [2, 3]\n",
    "#sol list store so we create a list is sol\n",
    "sol = []\n",
    "for i in range(len(free_var)):\n",
    "    # solution vector = soln\n",
    "    soln = np.zeros(Z.shape[1])\n",
    "    # set of piovt element \n",
    "    soln[pivot] = np.random.rand(len(pivot))\n",
    "    #set of free variable \n",
    "    soln[free_var[i]] = 1\n",
    "    soln[free_var[1-i]] = -((7/8)*soln[0] - (1/8)*soln[1])/(3/4)\n",
    "    # store the value in var solns\n",
    "    sol.append(soln)\n",
    "print(sol)\n",
    "    \n",
    "\n",
    "\n"
   ]
  },
  {
   "cell_type": "code",
   "execution_count": 4,
   "metadata": {},
   "outputs": [
    {
     "name": "stdout",
     "output_type": "stream",
     "text": [
      "x = t * [-0.9486833  -0.31622777]\n"
     ]
    }
   ],
   "source": [
    "'''5.Compute the parametric vector form of the soolution set of \n",
    "A.x=0, where\n",
    "\tA= 1  -3\n",
    "\t   2  -6'''\n",
    "\n",
    "import numpy as np\n",
    "\n",
    "#the matrix A\n",
    "A = np.array([[1, -3], [2, -6]])\n",
    "# the null space of A using the SVD method\n",
    "T, U, V = np.linalg.svd(A)\n",
    "null_space = V[-1, :]\n",
    "# the parametric vector form \n",
    "print(\"x = t *\", null_space)\n"
   ]
  },
  {
   "cell_type": "code",
   "execution_count": 5,
   "metadata": {},
   "outputs": [
    {
     "name": "stdout",
     "output_type": "stream",
     "text": [
      "x = t * [-0.9486833  -0.31622777]\n"
     ]
    }
   ],
   "source": [
    "'''6. What is the solution set of A.x=b,where\n",
    "\tA= 1 -1 2\n",
    "\t  -2 2 -4, and \n",
    "\tb=  1 \n",
    "\t   -2'''\n",
    "import numpy as np\n",
    "\n",
    "# the matrix A\n",
    "A = np.array([[1, -3], [2, -6]])\n",
    "# find the null space of A using the SVD method\n",
    "U, s, V = np.linalg.svd(A)\n",
    "null_space = V[-1, :]\n",
    "# Print the parametric vector form \n",
    "print(\"x = t *\", null_space)\n",
    "\n",
    "\n"
   ]
  },
  {
   "cell_type": "code",
   "execution_count": 7,
   "metadata": {},
   "outputs": [
    {
     "name": "stdout",
     "output_type": "stream",
     "text": [
      "The vectors are linearly independent.\n"
     ]
    }
   ],
   "source": [
    "'''7.Check the linear independence \n",
    "\t 2  4 10\n",
    "\t 3 -7 11\n",
    "\t-1  4 10'''\n",
    "\n",
    "import numpy as np\n",
    "# matrix A\n",
    "A = np.array([[2, 4, 10], [3, -7, 11], [-1, 4, 10]])\n",
    "#rank of matrix\n",
    "rank = np.linalg.matrix_rank(A)\n",
    "if rank == A.shape[1]:\n",
    "    print(\"The vectors are linearly independent.\")\n",
    "else:\n",
    "    print(\"The vectors are linearly dependent.\")"
   ]
  },
  {
   "cell_type": "code",
   "execution_count": 6,
   "metadata": {},
   "outputs": [
    {
     "name": "stdout",
     "output_type": "stream",
     "text": [
      "A null space = [[ 0.88070755 -0.13591122]\n",
      " [ 0.08004516  0.95150275]\n",
      " [ 0.40031614  0.21361026]\n",
      " [-0.24019571  0.17476074]]\n"
     ]
    }
   ],
   "source": [
    "'''8. Find a spanning set for the null space of the matrix:\n",
    "\tA= 2  3 -8 -5\n",
    "\t   -1 2 -3 -8'''\n",
    "    \n",
    "import numpy as np\n",
    "# the matrix A\n",
    "A = np.array([[2, 3, -8, -5], [-1, 2, -3, -8]])\n",
    "# find the null space of A using the SVD method\n",
    "t, u, V = np.linalg.svd(A)\n",
    "null_space = V[-2:, :].T\n",
    "# spanning set for the null space of A\n",
    "print(\"A null space =\", null_space)\n"
   ]
  },
  {
   "cell_type": "code",
   "execution_count": 8,
   "metadata": {},
   "outputs": [
    {
     "name": "stdout",
     "output_type": "stream",
     "text": [
      "Pivots of matrix \n",
      "[0 1 2]\n"
     ]
    }
   ],
   "source": [
    "'''9. To find pivots of the matrix:\n",
    "\tA= 1 -2 1\n",
    "\t   1 -1 2\n",
    "\t   0 -2 2'''\n",
    "\n",
    "\n",
    "import numpy as np\n",
    "from scipy.linalg import lu\n",
    "# create matrix A\n",
    "A = np.array([[1, -2, 1], [1, -1, 2], [0, -2, 2]])\n",
    "# LU factorization\n",
    "x, y, z = lu(A)\n",
    "print(\"Pivots of matrix \")\n",
    "print(np.where(np.diag(z) != 0)[0])\n"
   ]
  },
  {
   "cell_type": "code",
   "execution_count": 7,
   "metadata": {},
   "outputs": [
    {
     "name": "stdout",
     "output_type": "stream",
     "text": [
      "A null space = [[ 0.88070755 -0.13591122]\n",
      " [ 0.08004516  0.95150275]\n",
      " [ 0.40031614  0.21361026]\n",
      " [-0.24019571  0.17476074]]\n"
     ]
    }
   ],
   "source": [
    "'''10. fIND A Basis of the subspace \n",
    "\tV=span{(1   (2  (0  (-1\n",
    "\t\t  -2  -3   4   5\n",
    "\t\t  2), 4),  0), -1)'''\n",
    "    \n",
    "import numpy as np\n",
    "# the matrix A\n",
    "A = np.array([[2, 3, -8, -5], [-1, 2, -3, -8]])\n",
    "# find the null space of A using the SVD method\n",
    "t, u, V = np.linalg.svd(A)\n",
    "null_space = V[-2:, :].T\n",
    "# spanning set for the null space of A\n",
    "print(\"A null space =\", null_space)\n",
    "\n",
    "    \n"
   ]
  },
  {
   "cell_type": "code",
   "execution_count": 1,
   "metadata": {},
   "outputs": [
    {
     "name": "stdout",
     "output_type": "stream",
     "text": [
      "Null Space :  Matrix([[-1], [1]])\n",
      "Matrix([[0], [0], [0]])\n"
     ]
    }
   ],
   "source": [
    "'''11.compute the column space and the null space of :\n",
    "A=[1 1 \n",
    "   1 1 \n",
    "   1 1]'''\n",
    "\n",
    "from sympy import Matrix \n",
    "\n",
    "A = [[1, 1,], [1,1], [1,1]] \n",
    "A = Matrix(A) \n",
    "NullSpace = A.nullspace()  \n",
    "  \n",
    "NullSpace = Matrix(NullSpace)\n",
    "print(\"Null Space : \", NullSpace) \n",
    "print(A * NullSpace)"
   ]
  },
  {
   "cell_type": "code",
   "execution_count": 9,
   "metadata": {},
   "outputs": [
    {
     "name": "stdout",
     "output_type": "stream",
     "text": [
      "Rank of A:  2\n",
      "Nullity of A:  2\n"
     ]
    }
   ],
   "source": [
    "'''12.Compute the rank and nullity of the following matrix\n",
    "\tA= 1 2 0 -1\n",
    "        -2 -3 4 5\n",
    "\t  2 4 0  -2'''\n",
    "\n",
    "import numpy as np\n",
    "# create matrix A\n",
    "A = np.array([[1, 2, 0, -1],\n",
    "              [-2, -3, 4, 5],\n",
    "              [2, 4, 0, -2]])\n",
    "\n",
    "# calculate  the rank and nullity\n",
    "rank = np.linalg.matrix_rank(A)\n",
    "nullity = A.shape[1] - rank\n",
    "print(\"Rank of A: \", rank)\n",
    "print(\"Nullity of A: \",nullity)\n"
   ]
  },
  {
   "cell_type": "code",
   "execution_count": null,
   "metadata": {},
   "outputs": [],
   "source": []
  }
 ],
 "metadata": {
  "kernelspec": {
   "display_name": "Python 3",
   "language": "python",
   "name": "python3"
  },
  "language_info": {
   "codemirror_mode": {
    "name": "ipython",
    "version": 3
   },
   "file_extension": ".py",
   "mimetype": "text/x-python",
   "name": "python",
   "nbconvert_exporter": "python",
   "pygments_lexer": "ipython3",
   "version": "3.10.10"
  },
  "orig_nbformat": 4
 },
 "nbformat": 4,
 "nbformat_minor": 2
}
